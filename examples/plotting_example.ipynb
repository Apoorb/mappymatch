{
 "cells": [
  {
   "cell_type": "code",
   "execution_count": 14,
   "source": [
    "from mappymatch.constructs.trace import Trace\n",
    "from mappymatch.utils.geo import geofence_from_trace\n",
    "from mappymatch.maps.nx.readers.osm_readers import read_osm_nxmap\n",
    "from mappymatch.matchers.lcss.lcss import LCSSMatcher\n",
    "from mappymatch.matchers.matcher_interface import MatchResult\n",
    "from mappymatch import root\n",
    "import matplotlib.pyplot as plt"
   ],
   "outputs": [],
   "metadata": {}
  },
  {
   "cell_type": "code",
   "execution_count": 15,
   "source": [
    "def plot_match_distances(matches: MatchResult):\n",
    "    \"\"\"\n",
    "        Summary: Plot the points deviance from known roads with matplotlib.\n",
    "\n",
    "        Issues:\n",
    "            we have two different dataframes one labeled with gdf and the other with df. --> to resolve this, the gdf labeled data frames have been changed to df labels.\n",
    "\n",
    "        Args:\n",
    "            coord_df (pandas dataframe): coords of guessed points in the area.\n",
    "    \"\"\"\n",
    "\n",
    "    y = [m.distance for m in matches]\n",
    "    x = [x for x in range(0, len(y))]  # this line create placeholder values for x axis\n",
    "\n",
    "    plt.figure(figsize=(15, 7))\n",
    "    plt.autoscale(\n",
    "        enable=True\n",
    "    )\n",
    "    plt.scatter(\n",
    "        x, y\n",
    "    )\n",
    "    plt.title(\"Distance To Nearest Road\")\n",
    "    plt.ylabel(\"Meters\")\n",
    "    plt.xlabel(\n",
    "        \"Point Along The Path\"\n",
    "    )\n",
    "    plt.show()\n"
   ],
   "outputs": [],
   "metadata": {}
  },
  {
   "cell_type": "code",
   "execution_count": 16,
   "source": [
    "def plot_prep(file_path):  #\n",
    "    \"\"\"\n",
    "    Summary:\n",
    "       provided a file path, the plot_prep function creates a trace, geofence, road_map, and matcher using LCSSMatcher and then passes the matches object to the plot_matches function. This function generates a fmap, but it also runs the plot_match_distances function before it finishes executing. With some tweaking this can be customized to the users preferences.\n",
    "\n",
    "    Args:\n",
    "        file_path (str, optional): _description_. Defaults to 'resources/traces/sample_trace_1.csv'.\n",
    "    \"\"\"\n",
    "    try:\n",
    "        trace = Trace.from_csv(root() / f\"{file_path}\")\n",
    "    except Exception:\n",
    "        trace = Trace.from_csv(\n",
    "            f\"{file_path}\"\n",
    "        )  # catches any file entry errors.\n",
    "    geofence = geofence_from_trace(trace, padding=1e3)\n",
    "    road_map = read_osm_nxmap(geofence)\n",
    "    matcher = LCSSMatcher(road_map)\n",
    "    matches = matcher.match_trace(trace)\n",
    "    plot_match_distances(matches) # call the plot_matches function which will plot the matches with matplotlib\n"
   ],
   "outputs": [],
   "metadata": {}
  },
  {
   "cell_type": "code",
   "execution_count": 17,
   "source": [
    "file_path = \"../resources/traces/sample_trace_2.csv\"\n",
    "\n",
    "plot_prep(file_path)\n"
   ],
   "outputs": [],
   "metadata": {}
  }
 ],
 "metadata": {
  "orig_nbformat": 4,
  "language_info": {
   "name": "python",
   "version": "3.8.13",
   "mimetype": "text/x-python",
   "codemirror_mode": {
    "name": "ipython",
    "version": 3
   },
   "pygments_lexer": "ipython3",
   "nbconvert_exporter": "python",
   "file_extension": ".py"
  },
  "kernelspec": {
   "name": "python3",
   "display_name": "Python 3.8.13 64-bit"
  },
  "interpreter": {
   "hash": "3733051c69344db63576f68372afafda76a9877deac9f604a522188846327629"
  }
 },
 "nbformat": 4,
 "nbformat_minor": 2
}